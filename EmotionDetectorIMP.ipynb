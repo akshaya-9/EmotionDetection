{
  "nbformat": 4,
  "nbformat_minor": 0,
  "metadata": {
    "accelerator": "GPU",
    "colab": {
      "name": "EmotionDetectorIMP.ipynb",
      "provenance": [],
      "collapsed_sections": [],
      "include_colab_link": true
    },
    "kernelspec": {
      "display_name": "Python 3",
      "name": "python3"
    },
    "language_info": {
      "name": "python"
    }
  },
  "cells": [
    {
      "cell_type": "markdown",
      "metadata": {
        "id": "view-in-github",
        "colab_type": "text"
      },
      "source": [
        "<a href=\"https://colab.research.google.com/github/akshaya-9/EmotionDetection/blob/main/EmotionDetectorIMP.ipynb\" target=\"_parent\"><img src=\"https://colab.research.google.com/assets/colab-badge.svg\" alt=\"Open In Colab\"/></a>"
      ]
    },
    {
      "cell_type": "markdown",
      "metadata": {
        "id": "izes_85-e0TX"
      },
      "source": [
        "# **Emotion Detection**\n",
        "\n",
        "\n",
        "\n"
      ]
    },
    {
      "cell_type": "markdown",
      "metadata": {
        "id": "3q_49sdCLO-3"
      },
      "source": [
        "# Importing Library "
      ]
    },
    {
      "cell_type": "markdown",
      "metadata": {
        "id": "LrAomkUei3fd"
      },
      "source": [
        ""
      ]
    },
    {
      "cell_type": "code",
      "metadata": {
        "id": "wMSPbg34_a5d"
      },
      "source": [
        "import pandas as pd\n",
        "import numpy as np \n",
        "import matplotlib.pyplot as plt\n",
        "\n",
        "from keras.models import Sequential\n",
        "from keras.layers.core import Flatten,Dense,Dropout\n",
        "from keras.layers.convolutional import Conv2D,MaxPooling2D \n",
        "from keras.layers import BatchNormalization\n",
        "from keras.optimizers import SGD\n",
        "from keras.optimizers import Adam \n",
        "from keras.utils import np_utils  \n"
      ],
      "execution_count": null,
      "outputs": []
    },
    {
      "cell_type": "markdown",
      "metadata": {
        "id": "y5ipmKCvLVKe"
      },
      "source": [
        "# Loading Data"
      ]
    },
    {
      "cell_type": "code",
      "metadata": {
        "id": "sm2eCmphBhUt"
      },
      "source": [
        "data  = pd.read_csv('/content/drive/MyDrive/fer2013.csv')"
      ],
      "execution_count": null,
      "outputs": []
    },
    {
      "cell_type": "code",
      "metadata": {
        "colab": {
          "base_uri": "https://localhost:8080/"
        },
        "id": "NOk8TBGw65oq",
        "outputId": "909e79f8-40ea-433d-baf4-b0fc0acce807"
      },
      "source": [
        "data['emotion'].unique()"
      ],
      "execution_count": null,
      "outputs": [
        {
          "output_type": "execute_result",
          "data": {
            "text/plain": [
              "array([0, 2, 4, 6, 3, 5, 1])"
            ]
          },
          "metadata": {
            "tags": []
          },
          "execution_count": 8
        }
      ]
    },
    {
      "cell_type": "code",
      "metadata": {
        "colab": {
          "base_uri": "https://localhost:8080/"
        },
        "id": "JmU6hMWuq2np",
        "outputId": "6bba9fb0-cca0-4983-db28-c0141e55f22a"
      },
      "source": [
        "from google.colab import drive\n",
        "drive.mount('/content/drive')"
      ],
      "execution_count": null,
      "outputs": [
        {
          "output_type": "stream",
          "text": [
            "Drive already mounted at /content/drive; to attempt to forcibly remount, call drive.mount(\"/content/drive\", force_remount=True).\n"
          ],
          "name": "stdout"
        }
      ]
    },
    {
      "cell_type": "code",
      "metadata": {
        "colab": {
          "base_uri": "https://localhost:8080/"
        },
        "id": "NVYmIIOvVGyq",
        "outputId": "3b4b7c9e-59c1-4c3d-f2d8-e666f6218a08"
      },
      "source": [
        "len(data.index)"
      ],
      "execution_count": null,
      "outputs": [
        {
          "output_type": "execute_result",
          "data": {
            "text/plain": [
              "35887"
            ]
          },
          "metadata": {
            "tags": []
          },
          "execution_count": 10
        }
      ]
    },
    {
      "cell_type": "code",
      "metadata": {
        "colab": {
          "base_uri": "https://localhost:8080/"
        },
        "id": "lS36Eb5O7bIK",
        "outputId": "68d460ae-9752-4051-cd37-85aa2b3277eb"
      },
      "source": [
        "data['Usage'].unique()"
      ],
      "execution_count": null,
      "outputs": [
        {
          "output_type": "execute_result",
          "data": {
            "text/plain": [
              "array(['Training', 'PublicTest', 'PrivateTest'], dtype=object)"
            ]
          },
          "metadata": {
            "tags": []
          },
          "execution_count": 11
        }
      ]
    },
    {
      "cell_type": "code",
      "metadata": {
        "colab": {
          "base_uri": "https://localhost:8080/"
        },
        "id": "3-2mRGy0G_o5",
        "outputId": "8a93553d-4f21-43df-ee25-de9d6e12ab24"
      },
      "source": [
        "print(data)"
      ],
      "execution_count": null,
      "outputs": [
        {
          "output_type": "stream",
          "text": [
            "       emotion                                             pixels        Usage\n",
            "0            0  70 80 82 72 58 58 60 63 54 58 60 48 89 115 121...     Training\n",
            "1            0  151 150 147 155 148 133 111 140 170 174 182 15...     Training\n",
            "2            2  231 212 156 164 174 138 161 173 182 200 106 38...     Training\n",
            "3            4  24 32 36 30 32 23 19 20 30 41 21 22 32 34 21 1...     Training\n",
            "4            6  4 0 0 0 0 0 0 0 0 0 0 0 3 15 23 28 48 50 58 84...     Training\n",
            "...        ...                                                ...          ...\n",
            "35882        6  50 36 17 22 23 29 33 39 34 37 37 37 39 43 48 5...  PrivateTest\n",
            "35883        3  178 174 172 173 181 188 191 194 196 199 200 20...  PrivateTest\n",
            "35884        0  17 17 16 23 28 22 19 17 25 26 20 24 31 19 27 9...  PrivateTest\n",
            "35885        3  30 28 28 29 31 30 42 68 79 81 77 67 67 71 63 6...  PrivateTest\n",
            "35886        2  19 13 14 12 13 16 21 33 50 57 71 84 97 108 122...  PrivateTest\n",
            "\n",
            "[35887 rows x 3 columns]\n"
          ],
          "name": "stdout"
        }
      ]
    },
    {
      "cell_type": "code",
      "metadata": {
        "colab": {
          "base_uri": "https://localhost:8080/"
        },
        "id": "TvXkiZXT0MAD",
        "outputId": "f50cb1e2-a862-458f-f1fd-e0fe13df9429"
      },
      "source": [
        "data.size"
      ],
      "execution_count": null,
      "outputs": [
        {
          "output_type": "execute_result",
          "data": {
            "text/plain": [
              "107661"
            ]
          },
          "metadata": {
            "tags": []
          },
          "execution_count": 13
        }
      ]
    },
    {
      "cell_type": "markdown",
      "metadata": {
        "id": "9bsPOfEyLYgV"
      },
      "source": [
        "# Splitting training and testing data"
      ]
    },
    {
      "cell_type": "code",
      "metadata": {
        "id": "0pnTBGVwHG3I"
      },
      "source": [
        "x_train =[]\n",
        "y_train =[]\n",
        "x_test = []\n",
        "y_test =[]"
      ],
      "execution_count": null,
      "outputs": []
    },
    {
      "cell_type": "code",
      "metadata": {
        "id": "nUAvGqscIUQo"
      },
      "source": [
        "for index,row in data.iterrows():\n",
        "  k = row['pixels'].split(\" \")\n",
        "  if row['Usage'] == 'Training':\n",
        "    x_train.append(np.array(k))\n",
        "    y_train.append(row['emotion'])\n",
        "  elif row['Usage'] == 'PrivateTest' or row['Usage'] == 'PublicTest' :\n",
        "    x_test.append(np.array(k))\n",
        "    y_test.append(row['emotion'])"
      ],
      "execution_count": null,
      "outputs": []
    },
    {
      "cell_type": "markdown",
      "metadata": {
        "id": "iz7W9hAdLeom"
      },
      "source": [
        "# Reshaping training and testing data"
      ]
    },
    {
      "cell_type": "code",
      "metadata": {
        "id": "vBCqQCBzKoJY"
      },
      "source": [
        "x_train = np.array(x_train,'float32')\n",
        "y_train = np.array(y_train,'float32')\n",
        "x_test = np.array(x_test,'float32')\n",
        "y_test =np.array(y_test,'float32')"
      ],
      "execution_count": null,
      "outputs": []
    },
    {
      "cell_type": "code",
      "metadata": {
        "colab": {
          "base_uri": "https://localhost:8080/"
        },
        "id": "uJpqm83XAdlq",
        "outputId": "8a92893c-8ed0-46d7-b043-080ed3fe9af1"
      },
      "source": [
        "x_train[0]"
      ],
      "execution_count": null,
      "outputs": [
        {
          "output_type": "execute_result",
          "data": {
            "text/plain": [
              "array([ 70.,  80.,  82., ..., 106., 109.,  82.], dtype=float32)"
            ]
          },
          "metadata": {
            "tags": []
          },
          "execution_count": 17
        }
      ]
    },
    {
      "cell_type": "code",
      "metadata": {
        "id": "ZoJ_I3WqC1Iw"
      },
      "source": [
        "x_train -= np.mean(x_train, axis=0)  \n",
        "x_train /= np.std(x_train, axis=0)  \n",
        "  \n",
        "x_test -= np.mean(x_test, axis=0)  \n",
        "x_test /= np.std(x_test, axis=0)  \n"
      ],
      "execution_count": null,
      "outputs": []
    },
    {
      "cell_type": "code",
      "metadata": {
        "id": "rqWiFIQ_1RCq"
      },
      "source": [
        ""
      ],
      "execution_count": null,
      "outputs": []
    },
    {
      "cell_type": "code",
      "metadata": {
        "id": "NwSTB_Et_wIH"
      },
      "source": [
        "x_train = x_train.reshape(x_train.shape[0], 48, 48, 1)  \n",
        "x_test = x_test.reshape(x_test.shape[0], 48, 48, 1)  "
      ],
      "execution_count": null,
      "outputs": []
    },
    {
      "cell_type": "code",
      "metadata": {
        "colab": {
          "base_uri": "https://localhost:8080/"
        },
        "id": "GTFwaMrEAt8B",
        "outputId": "cb8115b6-be15-4dc9-cf11-cc520c50cb64"
      },
      "source": [
        "x_train.shape[0]"
      ],
      "execution_count": null,
      "outputs": [
        {
          "output_type": "execute_result",
          "data": {
            "text/plain": [
              "28709"
            ]
          },
          "metadata": {
            "tags": []
          },
          "execution_count": 20
        }
      ]
    },
    {
      "cell_type": "code",
      "metadata": {
        "id": "IH0vSg2JNEYc"
      },
      "source": [
        "from keras.utils import np_utils  \n",
        "from keras.utils.np_utils import to_categorical\n",
        "y_train =np_utils.to_categorical(y_train,num_classes=7)\n",
        "y_test = np_utils.to_categorical(y_test,num_classes=7)"
      ],
      "execution_count": null,
      "outputs": []
    },
    {
      "cell_type": "code",
      "metadata": {
        "colab": {
          "base_uri": "https://localhost:8080/"
        },
        "id": "QM2h88w-8PiF",
        "outputId": "c75dce01-49c6-4f50-c414-2edd515fb76d"
      },
      "source": [
        "y_test.shape"
      ],
      "execution_count": null,
      "outputs": [
        {
          "output_type": "execute_result",
          "data": {
            "text/plain": [
              "(7178, 7)"
            ]
          },
          "metadata": {
            "tags": []
          },
          "execution_count": 35
        }
      ]
    },
    {
      "cell_type": "code",
      "metadata": {
        "colab": {
          "base_uri": "https://localhost:8080/"
        },
        "id": "TxMiPWh4NISo",
        "outputId": "5bfb5d1b-3ed8-4010-e09b-415b5e15b195"
      },
      "source": [
        "x_train.shape"
      ],
      "execution_count": null,
      "outputs": [
        {
          "output_type": "execute_result",
          "data": {
            "text/plain": [
              "(28709, 48, 48, 1)"
            ]
          },
          "metadata": {
            "tags": []
          },
          "execution_count": 36
        }
      ]
    },
    {
      "cell_type": "code",
      "metadata": {
        "colab": {
          "base_uri": "https://localhost:8080/"
        },
        "id": "h4x6X6-lnuib",
        "outputId": "521fd138-3af2-4d1e-8110-d467a9f1b84f"
      },
      "source": [
        "x_test.shape"
      ],
      "execution_count": null,
      "outputs": [
        {
          "output_type": "execute_result",
          "data": {
            "text/plain": [
              "(7178, 48, 48, 1)"
            ]
          },
          "metadata": {
            "tags": []
          },
          "execution_count": 37
        }
      ]
    },
    {
      "cell_type": "code",
      "metadata": {
        "colab": {
          "base_uri": "https://localhost:8080/"
        },
        "id": "qcE5TxMjPHiI",
        "outputId": "00001d6c-00a1-4e29-efed-ae056cd9fb11"
      },
      "source": [
        "y_train.shape"
      ],
      "execution_count": null,
      "outputs": [
        {
          "output_type": "execute_result",
          "data": {
            "text/plain": [
              "(28709, 7)"
            ]
          },
          "metadata": {
            "tags": []
          },
          "execution_count": 38
        }
      ]
    },
    {
      "cell_type": "code",
      "metadata": {
        "colab": {
          "base_uri": "https://localhost:8080/"
        },
        "id": "E2eqKKu1qhyz",
        "outputId": "3634efb8-5642-4058-c2af-32a0f80973ea"
      },
      "source": [
        "data.dtypes"
      ],
      "execution_count": null,
      "outputs": [
        {
          "output_type": "execute_result",
          "data": {
            "text/plain": [
              "emotion     int64\n",
              "pixels     object\n",
              "Usage      object\n",
              "dtype: object"
            ]
          },
          "metadata": {
            "tags": []
          },
          "execution_count": 39
        }
      ]
    },
    {
      "cell_type": "markdown",
      "metadata": {
        "id": "NzrJpMaYA_3m"
      },
      "source": [
        "# Model Building\n",
        "* 2 layers 1 cnn ,100 epochs = 55.17%\n",
        "\n",
        "*   3 layers ,1 cnn, 1 max pool , 2 dense , 10 epochs  =  56.84%\n",
        "*   3 layers ,2 cnn ,1 max pool , 2 dense ,10 epochs= 56.3 %\n",
        "*   3 layers ,3 cnn , 1 maxpool ,2 dens ,10 epochs = 55.11 %\n",
        "\n",
        "\n",
        "* 0.5 drop out - 57.79%\n",
        "* 0.25 drop - 62.19%"
      ]
    },
    {
      "cell_type": "code",
      "metadata": {
        "id": "ykVVGaHLC9zY"
      },
      "source": [
        "num_labels = 7  "
      ],
      "execution_count": null,
      "outputs": []
    },
    {
      "cell_type": "code",
      "metadata": {
        "id": "MXXGcgsz0Dmv"
      },
      "source": [
        "model = Sequential()\n",
        "#layer 1\n",
        "model.add(Conv2D(32, kernel_size=(3, 3), activation='relu', input_shape=(48,48,1),padding = 'same'))\n",
        "model.add(MaxPooling2D(pool_size=(2, 2)))\n",
        "model.add(Dropout(0.25))\n",
        "\n",
        "# layer 2\n",
        "model.add(Conv2D(64, kernel_size=(3, 3), activation='relu',padding = 'same'))\n",
        "model.add(MaxPooling2D(pool_size=(2, 2)))\n",
        "model.add(Dropout(0.25))\n",
        "\n",
        "#layer 3\n",
        "model.add(Conv2D(64, kernel_size=(3, 3), activation='relu',padding = 'same'))\n",
        "model.add(MaxPooling2D(pool_size=(2, 2)))\n",
        "model.add(Dropout(0.25))\n",
        "\n",
        "#layer4 \n",
        "model.add(Conv2D(64, kernel_size=(3, 3), activation='relu',padding = 'same'))\n",
        "model.add(MaxPooling2D(pool_size=(2, 2)))\n",
        "model.add(Dropout(0.25))\n",
        "\n",
        "model.add(Flatten())\n",
        "\n",
        "#fully connected layer\n",
        "model.add(Dense(64, activation='relu'))\n",
        "model.add(Dropout(0.25))\n",
        "\n",
        "model.add(Dense(64, activation='relu'))\n",
        "model.add(Dropout(0.25))\n",
        "\n",
        "model.add(Dense(7, activation='softmax'))"
      ],
      "execution_count": null,
      "outputs": []
    },
    {
      "cell_type": "code",
      "metadata": {
        "colab": {
          "base_uri": "https://localhost:8080/"
        },
        "id": "a7YjJooO8nFb",
        "outputId": "f8384a1e-4c8e-4a43-dc0a-cee09e2b20aa"
      },
      "source": [
        "model.summary()"
      ],
      "execution_count": null,
      "outputs": [
        {
          "output_type": "stream",
          "text": [
            "Model: \"sequential_1\"\n",
            "_________________________________________________________________\n",
            "Layer (type)                 Output Shape              Param #   \n",
            "=================================================================\n",
            "conv2d_4 (Conv2D)            (None, 48, 48, 32)        320       \n",
            "_________________________________________________________________\n",
            "max_pooling2d_4 (MaxPooling2 (None, 24, 24, 32)        0         \n",
            "_________________________________________________________________\n",
            "dropout_6 (Dropout)          (None, 24, 24, 32)        0         \n",
            "_________________________________________________________________\n",
            "conv2d_5 (Conv2D)            (None, 24, 24, 64)        18496     \n",
            "_________________________________________________________________\n",
            "max_pooling2d_5 (MaxPooling2 (None, 12, 12, 64)        0         \n",
            "_________________________________________________________________\n",
            "dropout_7 (Dropout)          (None, 12, 12, 64)        0         \n",
            "_________________________________________________________________\n",
            "conv2d_6 (Conv2D)            (None, 12, 12, 64)        36928     \n",
            "_________________________________________________________________\n",
            "max_pooling2d_6 (MaxPooling2 (None, 6, 6, 64)          0         \n",
            "_________________________________________________________________\n",
            "dropout_8 (Dropout)          (None, 6, 6, 64)          0         \n",
            "_________________________________________________________________\n",
            "conv2d_7 (Conv2D)            (None, 6, 6, 64)          36928     \n",
            "_________________________________________________________________\n",
            "max_pooling2d_7 (MaxPooling2 (None, 3, 3, 64)          0         \n",
            "_________________________________________________________________\n",
            "dropout_9 (Dropout)          (None, 3, 3, 64)          0         \n",
            "_________________________________________________________________\n",
            "flatten_1 (Flatten)          (None, 576)               0         \n",
            "_________________________________________________________________\n",
            "dense_3 (Dense)              (None, 64)                36928     \n",
            "_________________________________________________________________\n",
            "dropout_10 (Dropout)         (None, 64)                0         \n",
            "_________________________________________________________________\n",
            "dense_4 (Dense)              (None, 64)                4160      \n",
            "_________________________________________________________________\n",
            "dropout_11 (Dropout)         (None, 64)                0         \n",
            "_________________________________________________________________\n",
            "dense_5 (Dense)              (None, 7)                 455       \n",
            "=================================================================\n",
            "Total params: 134,215\n",
            "Trainable params: 134,215\n",
            "Non-trainable params: 0\n",
            "_________________________________________________________________\n"
          ],
          "name": "stdout"
        }
      ]
    },
    {
      "cell_type": "markdown",
      "metadata": {
        "id": "FaeGIoLkBgcs"
      },
      "source": [
        "# Optimizers\n",
        " * SGD - 46.85%\n",
        " * ADAM - 51.35 % 30 epochs  batch size =32\n",
        "\n",
        " * ADAM - 55.34% 30 epochs   batch size = 64\n",
        "\n",
        " * ADAM - 58.50% 40 epochs batch size =128\n",
        "\n",
        " * ADAm -55.53% 100 pochs batch size =32\n",
        "\n",
        " * ADAM -  56.35%  32 epochs  batch size =32\n",
        "  \n",
        " "
      ]
    },
    {
      "cell_type": "code",
      "metadata": {
        "id": "KG4GIy002gF4"
      },
      "source": [
        "model.compile(optimizer='adam',loss='categorical_crossentropy',metrics=['accuracy'])"
      ],
      "execution_count": null,
      "outputs": []
    },
    {
      "cell_type": "code",
      "metadata": {
        "id": "aEf5-ty4qWiT"
      },
      "source": [
        " import tensorflow as tf\n",
        " early_stopping = tf.keras.callbacks.EarlyStopping(\n",
        "    monitor='val_loss', min_delta=0, patience=8, verbose=0,\n",
        "    mode='auto', baseline=None, restore_best_weights=True\n",
        ")"
      ],
      "execution_count": null,
      "outputs": []
    },
    {
      "cell_type": "code",
      "metadata": {
        "colab": {
          "base_uri": "https://localhost:8080/"
        },
        "id": "bpUlL3s96Wj3",
        "outputId": "a4ae9eb6-8486-4773-bd85-53e4c276385d"
      },
      "source": [
        "\n",
        "history = model.fit(x_train,y_train,batch_size=120,epochs=100,verbose=1,validation_data=(x_test,y_test), callbacks=[early_stopping], shuffle=True)\n"
      ],
      "execution_count": null,
      "outputs": [
        {
          "output_type": "stream",
          "text": [
            "Epoch 1/100\n",
            "240/240 [==============================] - 49s 14ms/step - loss: 1.8436 - accuracy: 0.2266 - val_loss: 1.7696 - val_accuracy: 0.2575\n",
            "Epoch 2/100\n",
            "240/240 [==============================] - 2s 10ms/step - loss: 1.7120 - accuracy: 0.3106 - val_loss: 1.5054 - val_accuracy: 0.4199\n",
            "Epoch 3/100\n",
            "240/240 [==============================] - 2s 10ms/step - loss: 1.5292 - accuracy: 0.4043 - val_loss: 1.3887 - val_accuracy: 0.4698\n",
            "Epoch 4/100\n",
            "240/240 [==============================] - 2s 10ms/step - loss: 1.4282 - accuracy: 0.4453 - val_loss: 1.3263 - val_accuracy: 0.4863\n",
            "Epoch 5/100\n",
            "240/240 [==============================] - 2s 10ms/step - loss: 1.3764 - accuracy: 0.4648 - val_loss: 1.2814 - val_accuracy: 0.5077\n",
            "Epoch 6/100\n",
            "240/240 [==============================] - 2s 10ms/step - loss: 1.3343 - accuracy: 0.4884 - val_loss: 1.2491 - val_accuracy: 0.5143\n",
            "Epoch 7/100\n",
            "240/240 [==============================] - 2s 10ms/step - loss: 1.3047 - accuracy: 0.4966 - val_loss: 1.2035 - val_accuracy: 0.5344\n",
            "Epoch 8/100\n",
            "240/240 [==============================] - 2s 10ms/step - loss: 1.2722 - accuracy: 0.5136 - val_loss: 1.1888 - val_accuracy: 0.5393\n",
            "Epoch 9/100\n",
            "240/240 [==============================] - 2s 10ms/step - loss: 1.2530 - accuracy: 0.5276 - val_loss: 1.1810 - val_accuracy: 0.5485\n",
            "Epoch 10/100\n",
            "240/240 [==============================] - 2s 10ms/step - loss: 1.2327 - accuracy: 0.5291 - val_loss: 1.1660 - val_accuracy: 0.5511\n",
            "Epoch 11/100\n",
            "240/240 [==============================] - 2s 10ms/step - loss: 1.2067 - accuracy: 0.5428 - val_loss: 1.1482 - val_accuracy: 0.5589\n",
            "Epoch 12/100\n",
            "240/240 [==============================] - 2s 10ms/step - loss: 1.2006 - accuracy: 0.5497 - val_loss: 1.1324 - val_accuracy: 0.5638\n",
            "Epoch 13/100\n",
            "240/240 [==============================] - 2s 10ms/step - loss: 1.1866 - accuracy: 0.5522 - val_loss: 1.1386 - val_accuracy: 0.5598\n",
            "Epoch 14/100\n",
            "240/240 [==============================] - 2s 10ms/step - loss: 1.1762 - accuracy: 0.5585 - val_loss: 1.1207 - val_accuracy: 0.5695\n",
            "Epoch 15/100\n",
            "240/240 [==============================] - 2s 10ms/step - loss: 1.1676 - accuracy: 0.5615 - val_loss: 1.1208 - val_accuracy: 0.5758\n",
            "Epoch 16/100\n",
            "240/240 [==============================] - 2s 10ms/step - loss: 1.1580 - accuracy: 0.5618 - val_loss: 1.1052 - val_accuracy: 0.5812\n",
            "Epoch 17/100\n",
            "240/240 [==============================] - 2s 10ms/step - loss: 1.1408 - accuracy: 0.5726 - val_loss: 1.0962 - val_accuracy: 0.5821\n",
            "Epoch 18/100\n",
            "240/240 [==============================] - 2s 10ms/step - loss: 1.1269 - accuracy: 0.5778 - val_loss: 1.0959 - val_accuracy: 0.5821\n",
            "Epoch 19/100\n",
            "240/240 [==============================] - 2s 10ms/step - loss: 1.1087 - accuracy: 0.5847 - val_loss: 1.0915 - val_accuracy: 0.5825\n",
            "Epoch 20/100\n",
            "240/240 [==============================] - 2s 10ms/step - loss: 1.1123 - accuracy: 0.5783 - val_loss: 1.0816 - val_accuracy: 0.5825\n",
            "Epoch 21/100\n",
            "240/240 [==============================] - 2s 10ms/step - loss: 1.1180 - accuracy: 0.5786 - val_loss: 1.0881 - val_accuracy: 0.5784\n",
            "Epoch 22/100\n",
            "240/240 [==============================] - 2s 10ms/step - loss: 1.1051 - accuracy: 0.5838 - val_loss: 1.0748 - val_accuracy: 0.5903\n",
            "Epoch 23/100\n",
            "240/240 [==============================] - 2s 10ms/step - loss: 1.0999 - accuracy: 0.5851 - val_loss: 1.0765 - val_accuracy: 0.5892\n",
            "Epoch 24/100\n",
            "240/240 [==============================] - 2s 10ms/step - loss: 1.1070 - accuracy: 0.5813 - val_loss: 1.0723 - val_accuracy: 0.5899\n",
            "Epoch 25/100\n",
            "240/240 [==============================] - 2s 10ms/step - loss: 1.0909 - accuracy: 0.5871 - val_loss: 1.0670 - val_accuracy: 0.5931\n",
            "Epoch 26/100\n",
            "240/240 [==============================] - 2s 10ms/step - loss: 1.0722 - accuracy: 0.5940 - val_loss: 1.0739 - val_accuracy: 0.5903\n",
            "Epoch 27/100\n",
            "240/240 [==============================] - 2s 10ms/step - loss: 1.0736 - accuracy: 0.5928 - val_loss: 1.0598 - val_accuracy: 0.5961\n",
            "Epoch 28/100\n",
            "240/240 [==============================] - 2s 10ms/step - loss: 1.0737 - accuracy: 0.5979 - val_loss: 1.0630 - val_accuracy: 0.5989\n",
            "Epoch 29/100\n",
            "240/240 [==============================] - 2s 10ms/step - loss: 1.0709 - accuracy: 0.5948 - val_loss: 1.0592 - val_accuracy: 0.5984\n",
            "Epoch 30/100\n",
            "240/240 [==============================] - 2s 10ms/step - loss: 1.0624 - accuracy: 0.5948 - val_loss: 1.0621 - val_accuracy: 0.5943\n",
            "Epoch 31/100\n",
            "240/240 [==============================] - 2s 10ms/step - loss: 1.0564 - accuracy: 0.6027 - val_loss: 1.0539 - val_accuracy: 0.6018\n",
            "Epoch 32/100\n",
            "240/240 [==============================] - 2s 10ms/step - loss: 1.0475 - accuracy: 0.6007 - val_loss: 1.0603 - val_accuracy: 0.5981\n",
            "Epoch 33/100\n",
            "240/240 [==============================] - 2s 10ms/step - loss: 1.0603 - accuracy: 0.5975 - val_loss: 1.0540 - val_accuracy: 0.5964\n",
            "Epoch 34/100\n",
            "240/240 [==============================] - 2s 10ms/step - loss: 1.0554 - accuracy: 0.6016 - val_loss: 1.0458 - val_accuracy: 0.6039\n",
            "Epoch 35/100\n",
            "240/240 [==============================] - 2s 10ms/step - loss: 1.0407 - accuracy: 0.6080 - val_loss: 1.0429 - val_accuracy: 0.6055\n",
            "Epoch 36/100\n",
            "240/240 [==============================] - 2s 10ms/step - loss: 1.0401 - accuracy: 0.6051 - val_loss: 1.0531 - val_accuracy: 0.6002\n",
            "Epoch 37/100\n",
            "240/240 [==============================] - 2s 10ms/step - loss: 1.0240 - accuracy: 0.6169 - val_loss: 1.0450 - val_accuracy: 0.6024\n",
            "Epoch 38/100\n",
            "240/240 [==============================] - 2s 10ms/step - loss: 1.0509 - accuracy: 0.6074 - val_loss: 1.0486 - val_accuracy: 0.5996\n",
            "Epoch 39/100\n",
            "240/240 [==============================] - 2s 10ms/step - loss: 1.0313 - accuracy: 0.6135 - val_loss: 1.0356 - val_accuracy: 0.6098\n",
            "Epoch 40/100\n",
            "240/240 [==============================] - 2s 10ms/step - loss: 1.0193 - accuracy: 0.6151 - val_loss: 1.0573 - val_accuracy: 0.5961\n",
            "Epoch 41/100\n",
            "240/240 [==============================] - 2s 10ms/step - loss: 1.0272 - accuracy: 0.6121 - val_loss: 1.0368 - val_accuracy: 0.6039\n",
            "Epoch 42/100\n",
            "240/240 [==============================] - 2s 10ms/step - loss: 1.0209 - accuracy: 0.6178 - val_loss: 1.0401 - val_accuracy: 0.6092\n",
            "Epoch 43/100\n",
            "240/240 [==============================] - 2s 10ms/step - loss: 1.0147 - accuracy: 0.6194 - val_loss: 1.0425 - val_accuracy: 0.6039\n",
            "Epoch 44/100\n",
            "240/240 [==============================] - 2s 10ms/step - loss: 1.0101 - accuracy: 0.6186 - val_loss: 1.0425 - val_accuracy: 0.6027\n",
            "Epoch 45/100\n",
            "240/240 [==============================] - 2s 10ms/step - loss: 1.0179 - accuracy: 0.6168 - val_loss: 1.0366 - val_accuracy: 0.6099\n",
            "Epoch 46/100\n",
            "240/240 [==============================] - 2s 10ms/step - loss: 1.0181 - accuracy: 0.6206 - val_loss: 1.0382 - val_accuracy: 0.6035\n",
            "Epoch 47/100\n",
            "240/240 [==============================] - 2s 10ms/step - loss: 1.0118 - accuracy: 0.6214 - val_loss: 1.0338 - val_accuracy: 0.6043\n",
            "Epoch 48/100\n",
            "240/240 [==============================] - 2s 10ms/step - loss: 1.0001 - accuracy: 0.6276 - val_loss: 1.0613 - val_accuracy: 0.5963\n",
            "Epoch 49/100\n",
            "240/240 [==============================] - 2s 10ms/step - loss: 0.9981 - accuracy: 0.6271 - val_loss: 1.0526 - val_accuracy: 0.5996\n",
            "Epoch 50/100\n",
            "240/240 [==============================] - 2s 10ms/step - loss: 1.0052 - accuracy: 0.6265 - val_loss: 1.0427 - val_accuracy: 0.6055\n",
            "Epoch 51/100\n",
            "240/240 [==============================] - 2s 10ms/step - loss: 0.9933 - accuracy: 0.6277 - val_loss: 1.0419 - val_accuracy: 0.6062\n",
            "Epoch 52/100\n",
            "240/240 [==============================] - 2s 10ms/step - loss: 0.9896 - accuracy: 0.6277 - val_loss: 1.0257 - val_accuracy: 0.6121\n",
            "Epoch 53/100\n",
            "240/240 [==============================] - 2s 10ms/step - loss: 1.0008 - accuracy: 0.6261 - val_loss: 1.0404 - val_accuracy: 0.6084\n",
            "Epoch 54/100\n",
            "240/240 [==============================] - 2s 10ms/step - loss: 1.0018 - accuracy: 0.6265 - val_loss: 1.0481 - val_accuracy: 0.6087\n",
            "Epoch 55/100\n",
            "240/240 [==============================] - 2s 10ms/step - loss: 0.9798 - accuracy: 0.6341 - val_loss: 1.0359 - val_accuracy: 0.6105\n",
            "Epoch 56/100\n",
            "240/240 [==============================] - 2s 10ms/step - loss: 0.9987 - accuracy: 0.6241 - val_loss: 1.0292 - val_accuracy: 0.6092\n",
            "Epoch 57/100\n",
            "240/240 [==============================] - 2s 10ms/step - loss: 0.9772 - accuracy: 0.6332 - val_loss: 1.0343 - val_accuracy: 0.6077\n",
            "Epoch 58/100\n",
            "240/240 [==============================] - 2s 10ms/step - loss: 0.9843 - accuracy: 0.6281 - val_loss: 1.0301 - val_accuracy: 0.6102\n",
            "Epoch 59/100\n",
            "240/240 [==============================] - 2s 10ms/step - loss: 0.9730 - accuracy: 0.6305 - val_loss: 1.0351 - val_accuracy: 0.6091\n",
            "Epoch 60/100\n",
            "240/240 [==============================] - 2s 10ms/step - loss: 0.9744 - accuracy: 0.6348 - val_loss: 1.0339 - val_accuracy: 0.6120\n"
          ],
          "name": "stdout"
        }
      ]
    },
    {
      "cell_type": "code",
      "metadata": {
        "colab": {
          "base_uri": "https://localhost:8080/"
        },
        "id": "gk1YMKZA7YtB",
        "outputId": "cc9c9ddd-a4ae-4f97-9954-03ce1628e458"
      },
      "source": [
        "scores = model.evaluate(x_test, y_test, verbose=0)\n",
        "print(scores)\n",
        "print(\"Testing Accuracy: %.2f%%\" % (scores[1]*100))"
      ],
      "execution_count": null,
      "outputs": [
        {
          "output_type": "stream",
          "text": [
            "[1.025733470916748, 0.6121482253074646]\n",
            "Testing Accuracy: 61.21%\n"
          ],
          "name": "stdout"
        }
      ]
    },
    {
      "cell_type": "markdown",
      "metadata": {
        "id": "7hlHM8q6CEdv"
      },
      "source": [
        "# Plotting Graph"
      ]
    },
    {
      "cell_type": "code",
      "metadata": {
        "id": "Dzelg6EuBcoG"
      },
      "source": [
        "%matplotlib inline\n",
        "\n",
        "def plot_metric(history, metric):\n",
        "    train_metrics = history.history[metric]\n",
        "    val_metrics = history.history['val_'+metric]\n",
        "    epochs = range(1, len(train_metrics) + 1)\n",
        "    plt.plot(epochs, train_metrics)\n",
        "    plt.plot(epochs, val_metrics)\n",
        "    plt.title('Training and validation '+ metric)\n",
        "    plt.xlabel(\"Epochs\")\n",
        "    plt.ylabel(metric)\n",
        "    plt.legend([\"train_\"+metric, 'val_'+metric])\n",
        "    plt.show()\n"
      ],
      "execution_count": null,
      "outputs": []
    },
    {
      "cell_type": "code",
      "metadata": {
        "colab": {
          "base_uri": "https://localhost:8080/",
          "height": 295
        },
        "id": "qotNrCxcjsqg",
        "outputId": "63be0227-b2be-4ae9-a364-f13c7affcd0b"
      },
      "source": [
        "\n",
        "plot_metric(history, 'loss') "
      ],
      "execution_count": null,
      "outputs": [
        {
          "output_type": "display_data",
          "data": {
            "image/png": "[encoded data removed]",
            "text/plain": [
              "<Figure size 432x288 with 1 Axes>"
            ]
          },
          "metadata": {
            "tags": [],
            "needs_background": "light"
          }
        }
      ]
    },
    {
      "cell_type": "code",
      "metadata": {
        "colab": {
          "base_uri": "https://localhost:8080/",
          "height": 295
        },
        "id": "O0EsXg_2M4e6",
        "outputId": "1f4c6563-4b9c-4f1e-aafc-53a8666ef5c5"
      },
      "source": [
        "plot_metric(history, 'accuracy') "
      ],
      "execution_count": null,
      "outputs": [
        {
          "output_type": "display_data",
          "data": {
            "image/png": "[encoded data removed]",
            "text/plain": [
              "<Figure size 432x288 with 1 Axes>"
            ]
          },
          "metadata": {
            "tags": [],
            "needs_background": "light"
          }
        }
      ]
    },
    {
      "cell_type": "markdown",
      "metadata": {
        "id": "MS0H8bTww31D"
      },
      "source": [
        "#  Saving the model"
      ]
    },
    {
      "cell_type": "code",
      "metadata": {
        "colab": {
          "base_uri": "https://localhost:8080/"
        },
        "id": "hz_O_BHssGGy",
        "outputId": "452fc2c2-7fb9-4812-d6bf-ad9db2ae2085"
      },
      "source": [
        "model_json = model.to_json()\n",
        "with open(\"model.json\", \"w\") as json_file:\n",
        " json_file.write(model_json)\n",
        "model.save_weights(\"model.h5\")\n",
        "print(\"Saved model to disk\")"
      ],
      "execution_count": null,
      "outputs": [
        {
          "output_type": "stream",
          "text": [
            "Saved model to disk\n"
          ],
          "name": "stdout"
        }
      ]
    },
    {
      "cell_type": "markdown",
      "metadata": {
        "id": "SUpYLfK6xR2c"
      },
      "source": [
        "# Open CV"
      ]
    },
    {
      "cell_type": "code",
      "metadata": {
        "id": "-VDN84coxKMY"
      },
      "source": [
        "from keras.models import load_model\n",
        "from keras.preprocessing.image import img_to_array\n",
        "from keras.preprocessing import image\n",
        "from keras.models import model_from_json\n",
        "import cv2,time\n",
        "import warnings\n",
        "warnings.filterwarnings('ignore')\n"
      ],
      "execution_count": null,
      "outputs": []
    },
    {
      "cell_type": "code",
      "metadata": {
        "id": "SBs16xY05jpE"
      },
      "source": [
        "from IPython.display import display, Javascript\n",
        "from google.colab.output import eval_js\n",
        "from base64 import b64decode\n",
        "\n",
        "def take_photo(filename='photo.jpg', quality=0.8):\n",
        "  js = Javascript('''\n",
        "    async function takePhoto(quality) {\n",
        "      const div = document.createElement('div');\n",
        "      const capture = document.createElement('button');\n",
        "      capture.textContent = 'Capture';\n",
        "      div.appendChild(capture);\n",
        "\n",
        "      const video = document.createElement('video');\n",
        "      video.style.display = 'block';\n",
        "      const stream = await navigator.mediaDevices.getUserMedia({video: true});\n",
        "\n",
        "      document.body.appendChild(div);\n",
        "      div.appendChild(video);\n",
        "      video.srcObject = stream;\n",
        "      await video.play();\n",
        "\n",
        "      // Resize the output to fit the video element.\n",
        "      google.colab.output.setIframeHeight(document.documentElement.scrollHeight, true);\n",
        "\n",
        "      // Wait for Capture to be clicked.\n",
        "      await new Promise((resolve) => capture.onclick = resolve);\n",
        "\n",
        "      const canvas = document.createElement('canvas');\n",
        "      canvas.width = video.videoWidth;\n",
        "      canvas.height = video.videoHeight;\n",
        "      canvas.getContext('2d').drawImage(video, 0, 0);\n",
        "      stream.getVideoTracks()[0].stop();\n",
        "      div.remove();\n",
        "      return canvas.toDataURL('image/jpeg', quality);\n",
        "    }\n",
        "    ''')\n",
        "  display(js)\n",
        "  data = eval_js('takePhoto({})'.format(quality))\n",
        "  binary = b64decode(data.split(',')[1])\n",
        "  with open(filename, 'wb') as f:\n",
        "    f.write(binary)\n",
        "  return filename"
      ],
      "execution_count": null,
      "outputs": []
    },
    {
      "cell_type": "code",
      "metadata": {
        "id": "Vrrrwvo15jpJ"
      },
      "source": [
        "from IPython.display import Image\n",
        "try:\n",
        "  filename = take_photo()\n",
        "  print('Saved to {}'.format(filename))\n",
        "  \n",
        "  # Show the image which was just taken.\n",
        "  display(Image(filename))\n",
        "except Exception as err:\n",
        "  # Errors will be thrown if the user does not have a webcam or if they do not\n",
        "  # grant the page permission to access it.\n",
        "  print(str(err))"
      ],
      "execution_count": null,
      "outputs": []
    },
    {
      "cell_type": "code",
      "metadata": {
        "id": "RdAkhR_n1CeA"
      },
      "source": [
        ""
      ],
      "execution_count": null,
      "outputs": []
    }
  ]
}